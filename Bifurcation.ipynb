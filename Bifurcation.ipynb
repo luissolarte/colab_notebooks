{
  "nbformat": 4,
  "nbformat_minor": 0,
  "metadata": {
    "colab": {
      "name": "Bifurcation.ipynb",
      "provenance": [],
      "authorship_tag": "ABX9TyPkK6INOw/fyUJJlsQXhZe2",
      "include_colab_link": true
    },
    "kernelspec": {
      "name": "python3",
      "display_name": "Python 3"
    },
    "language_info": {
      "name": "python"
    }
  },
  "cells": [
    {
      "cell_type": "markdown",
      "metadata": {
        "id": "view-in-github",
        "colab_type": "text"
      },
      "source": [
        "<a href=\"https://colab.research.google.com/github/luissolarte/colab_notebooks/blob/main/Bifurcation.ipynb\" target=\"_parent\"><img src=\"https://colab.research.google.com/assets/colab-badge.svg\" alt=\"Open In Colab\"/></a>"
      ]
    },
    {
      "cell_type": "code",
      "metadata": {
        "id": "sdUDgGm0wTye"
      },
      "source": [
        "import numpy as np"
      ],
      "execution_count": null,
      "outputs": []
    },
    {
      "cell_type": "code",
      "metadata": {
        "id": "O8R6qf5WwWIe"
      },
      "source": [
        "def integral2D(f,a,b,c,d,n=1000,m=1000):\n",
        "  X=np.linspace(a,b,n+1)\n",
        "  Y=np.linspace(c,d,m+1)\n",
        "  p1=sum([f(X[i],y) for i in [0,-1] for y in Y])\n",
        "  p2=sum([f(x,Y[i]) for i in [0,-1] for x in X])\n",
        "  dx,dy=(b-a)/n,(d-c)/m\n",
        "  return 0.5*dx*dy*(p1+p2+sum([2*f(x,y) for x in X[1:-1] for y in Y[1:-1] ]))"
      ],
      "execution_count": null,
      "outputs": []
    },
    {
      "cell_type": "code",
      "metadata": {
        "id": "WBIvvqi_9cqi"
      },
      "source": [
        "def integral2Dm(f,a,b,c,d,n=1000,m=1000):\n",
        "  X=np.linspace(a,b,n+1)\n",
        "  Y=np.linspace(c,d,m+1)\n",
        "  Xm=X[1:]+X[:-1]\n",
        "  Ym=Y[1:]+Y[:-1]\n",
        "  dx,dy=(b-a)/n,(d-c)/m\n",
        "  return dx*dy*sum([f(x,y) for x in 0.5*Xm for y in 0.5*Ym ])"
      ],
      "execution_count": null,
      "outputs": []
    },
    {
      "cell_type": "code",
      "metadata": {
        "id": "WtXS8TgD0RG8"
      },
      "source": [
        "def f(x,y):\n",
        "  h1=lambda x:0\n",
        "  h2=lambda x:np.sqrt(1-x**2)\n",
        "  if h1(x)<=y<=h2(x):\n",
        "    return 1\n",
        "  else:\n",
        "    return 0\n"
      ],
      "execution_count": null,
      "outputs": []
    },
    {
      "cell_type": "code",
      "metadata": {
        "id": "fdZyTEJu2Ey0"
      },
      "source": [
        "def g(x,y):return np.exp(-x**2-y**2)"
      ],
      "execution_count": null,
      "outputs": []
    },
    {
      "cell_type": "code",
      "metadata": {
        "colab": {
          "base_uri": "https://localhost:8080/"
        },
        "id": "Qhg5iSshxbgK",
        "outputId": "d602c68e-288b-49af-88be-a6d2fa9dbee4"
      },
      "source": [
        "4*integral2Dm(g, 0,10,0,10,2000,1000)"
      ],
      "execution_count": null,
      "outputs": [
        {
          "output_type": "execute_result",
          "data": {
            "text/plain": [
              "3.141592653587956"
            ]
          },
          "metadata": {
            "tags": []
          },
          "execution_count": 70
        }
      ]
    },
    {
      "cell_type": "code",
      "metadata": {
        "id": "Ghy3UN420P5R"
      },
      "source": [
        "def f(x,l): return l*x*(1-x)"
      ],
      "execution_count": null,
      "outputs": []
    },
    {
      "cell_type": "code",
      "metadata": {
        "id": "0Zu-UBIk0cY4"
      },
      "source": [
        "def orbita(x,l,k):\n",
        "  li=[x]\n",
        "  for _ in range(k+1):\n",
        "    li.append(f(li[-1],l))\n",
        "  return li"
      ],
      "execution_count": null,
      "outputs": []
    },
    {
      "cell_type": "code",
      "metadata": {
        "colab": {
          "base_uri": "https://localhost:8080/",
          "height": 265
        },
        "id": "QPrep-1W1CoJ",
        "outputId": "9cbd1d93-ad9a-429b-d5ac-40d2c33f21e3"
      },
      "source": [
        "for l in np.linspace(3,4):\n",
        "  y=orbita(0.5,l,200)[150:]\n",
        "  x=[l]*len(y)\n",
        "  plt.plot(x,y,'b*')"
      ],
      "execution_count": null,
      "outputs": [
        {
          "output_type": "display_data",
          "data": {
            "image/png": "[encoded data removed]",
            "text/plain": [
              "<Figure size 432x288 with 1 Axes>"
            ]
          },
          "metadata": {
            "tags": [],
            "needs_background": "light"
          }
        }
      ]
    },
    {
      "cell_type": "code",
      "metadata": {
        "id": "EnwnWvI_x7-c"
      },
      "source": [
        "#comentado"
      ],
      "execution_count": null,
      "outputs": []
    }
  ]
}